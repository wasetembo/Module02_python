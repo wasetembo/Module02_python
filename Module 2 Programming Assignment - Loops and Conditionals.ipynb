{
 "cells": [
  {
   "cell_type": "markdown",
   "id": "c6e0ce23-2626-4144-9239-9bfaacb7baaf",
   "metadata": {},
   "source": [
    " Author:  Maiwase Tembo\n",
    "<br> Date written: 11/3/24\n",
    "<br> Assignment:   Module 2\n",
    "<br> Short Desc:   4.1, 4.2, 6.1, 6.2, 6.3\n",
    "<br> Module 2"
   ]
  },
  {
   "cell_type": "code",
   "execution_count": 15,
   "id": "880d4784-afd1-4f30-930e-287df39b5284",
   "metadata": {},
   "outputs": [
    {
     "name": "stdout",
     "output_type": "stream",
     "text": [
      "just right\n"
     ]
    }
   ],
   "source": [
    "# 4.1 Choose a number between 1 and 10 and assign it to the variable secret. Then, select another number between 1 and 10 and assign it to the variable guess. Next, write the conditional tests (if, else, and elif) to print the string 'too low' if guess is less than secret, 'too high' if greater than secret, and 'just right' if equal to secret.\n",
    "secret = 2\n",
    "guess = 2\n",
    "if guess < secret:\n",
    "    print('too low')\n",
    "elif guess > secret:\n",
    "    print('too high')\n",
    "elif guess == secret:\n",
    "    print('just right')"
   ]
  },
  {
   "cell_type": "code",
   "execution_count": 25,
   "id": "6ff44d22-4319-4d2a-ac07-323656af03e1",
   "metadata": {},
   "outputs": [
    {
     "name": "stdout",
     "output_type": "stream",
     "text": [
      "cherry - Small: True, Green: False, Small and Green: False\n",
      "pea - Small: True, Green: True, Small and Green: True\n",
      "watermelon - Small: False, Green: True, Small and Green: False\n",
      "pumpkin - Small: False, Green: False, Small and Green: False\n"
     ]
    }
   ],
   "source": [
    "# 4.2 Assign True or False to the variables small and green. Write some if/else statements to print which of these matches those choices: cherry, pea, watermelon, pumpkin.\n",
    "\n",
    "#small and green items\n",
    "small_items = [\"cherry\", \"pea\"]\n",
    "green_items = [\"pea\", \"watermelon\"]\n",
    "\n",
    "# List of items to check\n",
    "items = [\"cherry\", \"pea\", \"watermelon\", \"pumpkin\"]\n",
    "\n",
    "# Check each item is green and small\n",
    "for item in items:\n",
    "    # Check if item is in small_items\n",
    "    is_small = True if item in small_items else False\n",
    "    # Check if item is in green_items\n",
    "    is_green = True if item in green_items else False\n",
    "    # Check if item is small and green\n",
    "    is_small_and_green = True if item in small_items and item in green_items else False\n",
    "    \n",
    "    # Print results\n",
    "    print(f\"{item} - Small: {is_small}, Green: {is_green}, Small and Green: {is_small_and_green}\")\n",
    "\n"
   ]
  },
  {
   "cell_type": "code",
   "execution_count": 31,
   "id": "a1248be1-6794-4a4a-8bc5-65a66ed98668",
   "metadata": {},
   "outputs": [
    {
     "name": "stdout",
     "output_type": "stream",
     "text": [
      "3\n",
      "2\n",
      "1\n",
      "0\n"
     ]
    }
   ],
   "source": [
    "# 6.1 Use a for loop to print the values of the list [3, 2, 1, 0].\n",
    "\n",
    "# Define the list\n",
    "values = [3, 2, 1, 0]\n",
    "\n",
    "#iterate over each value in the list and print it\n",
    "for value in values:\n",
    "    print(value)"
   ]
  },
  {
   "cell_type": "code",
   "execution_count": 33,
   "id": "0442aaf1-6abb-4660-864f-bc5bab55196d",
   "metadata": {},
   "outputs": [
    {
     "name": "stdout",
     "output_type": "stream",
     "text": [
      "too low\n",
      "too low\n",
      "too low\n",
      "too low\n",
      "too low\n",
      "too low\n",
      "found it!\n"
     ]
    }
   ],
   "source": [
    "# 6.2 Assign the value 7 to the variable guess_me, and the value 1 to the variable number. Write a while loop that compares number with guess_me. Print 'too low' if number is less than guess me. If number equals guess_me, print 'found it!' and then exit the loop. If number is greater than guess_me, print 'oops' and then exit the loop. Increment number at the end of the loop.\n",
    "guess_me = 7\n",
    "number = 1\n",
    "\n",
    "while True:\n",
    "    if number < guess_me:\n",
    "        print(\"too low\")\n",
    "    elif number == guess_me:\n",
    "        print(\"found it!\")\n",
    "        break  # Exit the loop when the number matches guess_me\n",
    "    else:\n",
    "        print(\"oops\")\n",
    "        break  # Exit the loop if number is greater than guess_me\n",
    "    \n",
    "    number += 1  # Increment number at the end of each loop iteration\n"
   ]
  },
  {
   "cell_type": "code",
   "execution_count": 35,
   "id": "5ed701a6-56da-4f78-913e-37bf8a4e45b4",
   "metadata": {},
   "outputs": [
    {
     "name": "stdout",
     "output_type": "stream",
     "text": [
      "too low\n",
      "too low\n",
      "too low\n",
      "too low\n",
      "too low\n",
      "found it!\n"
     ]
    }
   ],
   "source": [
    "# 6.3 Assign the value 5 to the variable guess_me. Use a for loop to iterate a variable called number over range(10). If number is less than guess_me, print 'too low'. If it equals guess_me, print found it! and then break out of the for loop. If number is greater than guess_me, print 'oops' and then exit the loop.\n",
    "\n",
    "guess_me = 5\n",
    "\n",
    "for number in range(10):\n",
    "    if number < guess_me:\n",
    "        print(\"too low\")\n",
    "    elif number == guess_me:\n",
    "        print(\"found it!\")\n",
    "        break  # Exit the loop when the number matches guess_me\n",
    "    else:\n",
    "        print(\"oops\")\n",
    "        break  # Exit the loop if number is greater than guess_me"
   ]
  },
  {
   "cell_type": "code",
   "execution_count": null,
   "id": "b4d5de46-0b6b-404a-a501-a32ae93586ce",
   "metadata": {},
   "outputs": [],
   "source": []
  }
 ],
 "metadata": {
  "kernelspec": {
   "display_name": "Python 3 (ipykernel)",
   "language": "python",
   "name": "python3"
  },
  "language_info": {
   "codemirror_mode": {
    "name": "ipython",
    "version": 3
   },
   "file_extension": ".py",
   "mimetype": "text/x-python",
   "name": "python",
   "nbconvert_exporter": "python",
   "pygments_lexer": "ipython3",
   "version": "3.12.7"
  }
 },
 "nbformat": 4,
 "nbformat_minor": 5
}
